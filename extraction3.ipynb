{
  "cells": [
    {
      "cell_type": "code",
      "execution_count": null,
      "metadata": {
        "id": "FQvdLPx603Wu"
      },
      "outputs": [],
      "source": [
        "import pandas as pd\n",
        "import numpy as np\n",
        "from sklearn.model_selection import train_test_split\n",
        "import os\n",
        "from scipy.stats import entropy\n",
        "from scipy.stats import mode\n",
        "from sklearn.ensemble import RandomForestClassifier\n",
        "from sklearn.metrics import accuracy_score, confusion_matrix, precision_score, recall_score, ConfusionMatrixDisplay\n",
        "from sklearn.model_selection import RandomizedSearchCV, train_test_split\n",
        "from scipy.stats import randint\n",
        "from sklearn.metrics import accuracy_score, classification_report, f1_score\n",
        "import statistics as st\n",
        "\n",
        "from google.colab import files\n",
        "\n",
        "from tqdm.auto import tqdm\n",
        "\n",
        "import matplotlib.pyplot as plt\n",
        "import seaborn as sns\n",
        "\n",
        "from sklearn.preprocessing import LabelEncoder\n",
        "\n",
        "from sklearn.ensemble import HistGradientBoostingClassifier"
      ]
    },
    {
      "cell_type": "code",
      "execution_count": null,
      "metadata": {
        "id": "61_2iKtpkfoo",
        "colab": {
          "base_uri": "https://localhost:8080/"
        },
        "outputId": "28b7ac4e-30eb-467c-fc4a-136ba533ceaf"
      },
      "outputs": [
        {
          "output_type": "stream",
          "name": "stdout",
          "text": [
            "Mounted at /content/drive\n"
          ]
        }
      ],
      "source": [
        "from google.colab import drive\n",
        "drive.mount('/content/drive')"
      ]
    },
    {
      "cell_type": "code",
      "execution_count": null,
      "metadata": {
        "id": "hwyEw22SvUU6"
      },
      "outputs": [],
      "source": [
        "#file = \"/content/drive/MyDrive/PAMAP2_Dataset\"\n",
        "\n",
        "#df = pd.read_csv(file)\n",
        "#df.head()"
      ]
    },
    {
      "cell_type": "code",
      "execution_count": null,
      "metadata": {
        "id": "6tbKG8S_vXUf"
      },
      "outputs": [],
      "source": [
        "directory = \"/content/drive/MyDrive/PAMAP2_Dataset/Protocol\" #'PAMAP2_Dataset\\Protocol'\n",
        "subj_dfs = pd.DataFrame()\n",
        "\n",
        "for subj_num in range(101, 110):\n",
        "    file_path = os.path.join(directory, f'subject{subj_num}.dat')\n",
        "    subj = np.loadtxt(file_path)\n",
        "\n",
        "    test_dict = {'user': np.repeat([subj_num % 100], len(subj)),\n",
        "                'acc_x': subj[:, 4], 'acc_y': subj[:, 5], 'acc_z': subj[:, 6],\n",
        "                'activity': subj[:, 1]}\n",
        "    subj_df = pd.DataFrame(test_dict)\n",
        "    subj_dfs = pd.concat([subj_dfs, subj_df], ignore_index=True)"
      ]
    },
    {
      "cell_type": "code",
      "execution_count": null,
      "metadata": {
        "id": "Jl5sqpuTwU2D"
      },
      "outputs": [],
      "source": [
        "unique_users = [1, 2, 3, 4, 5, 6, 7, 8, 9] # hardcoded the num of datasets to do train/test split\n",
        "train_users, test_users = train_test_split(unique_users, test_size=0.25, random_state=1)\n",
        "\n",
        "train_df = subj_dfs[subj_dfs['user'].isin(train_users)]\n",
        "test_df = subj_dfs[subj_dfs['user'].isin(test_users)]"
      ]
    },
    {
      "cell_type": "code",
      "execution_count": null,
      "metadata": {
        "id": "ulXV_ijNztw6"
      },
      "outputs": [],
      "source": [
        "print(train_users)\n",
        "\n",
        "train_df"
      ]
    },
    {
      "cell_type": "code",
      "execution_count": null,
      "metadata": {
        "id": "2o9eFWmxzv4G"
      },
      "outputs": [],
      "source": [
        "print(test_users)\n",
        "test_df"
      ]
    },
    {
      "cell_type": "code",
      "execution_count": null,
      "metadata": {
        "id": "XJA1Wf3twYT8"
      },
      "outputs": [],
      "source": [
        "def statistical_features(segment):\n",
        "    features = {}\n",
        "\n",
        "    x = segment['acc_x'].values\n",
        "    y = segment['acc_y'].values\n",
        "    z = segment['acc_z'].values\n",
        "\n",
        "    mag_x = np.sqrt(np.sum(x**2, axis = 0))\n",
        "    mag_y = np.sqrt(np.sum(y**2, axis = 0))\n",
        "    mag_z = np.sqrt(np.sum(z**2, axis = 0))\n",
        "\n",
        "    # features\n",
        "    # removed st.mode(x), y, z\n",
        "    x_feat = [np.mean(x), np.median(x), np.var(x), np.max(x), np.min(x), np.mean(mag_x), np.max(mag_x), np.min(mag_x)]\n",
        "    y_feat = [np.mean(y), np.median(y), np.var(y), np.max(y), np.min(y), np.mean(mag_y), np.max(mag_y), np.min(mag_y)]\n",
        "    z_feat = [np.mean(z), np.median(z), np.var(z), np.max(z), np.min(z), np.mean(mag_z), np.max(mag_z), np.min(mag_z)]\n",
        "\n",
        "    feat = np.array([x_feat, y_feat, z_feat]).flatten()\n",
        "    #print(feat.shape[0])\n",
        "\n",
        "    return feat"
      ]
    },
    {
      "cell_type": "code",
      "execution_count": null,
      "metadata": {
        "id": "-HAZmhiWwaOV"
      },
      "outputs": [],
      "source": [
        "def sliding_window(df, window_size, step_size):\n",
        "\n",
        "    features = []\n",
        "    majority_votes = []\n",
        "\n",
        "    num_cols = 3 #len(df.columns) # should be 3\n",
        "\n",
        "    #window = window_size * 3  # start with 50x3, window_size = 50\n",
        "    print(len(df))\n",
        "    print(step_size)\n",
        "\n",
        "    count = 0\n",
        "    for start in tqdm(range(0, len(df), step_size)):\n",
        "        # if start % 15000 == 0:\n",
        "        #   print(start)\n",
        "        end = start + window_size # non overlapping\n",
        "        segment = df[start:end]\n",
        "\n",
        "        feature = statistical_features(segment[['acc_x', 'acc_y', 'acc_z']])\n",
        "        features.append(feature)\n",
        "\n",
        "        majority_votes.append(st.mode(segment['activity'].values))\n",
        "        count += 1\n",
        "\n",
        "    print('count: {}'.format(count))\n",
        "    print('features shape: '.format(np.array(features).shape))\n",
        "    print('majority votes shape: '.format(np.array(majority_votes).shape))\n",
        "    return features, majority_votes"
      ]
    },
    {
      "cell_type": "code",
      "execution_count": null,
      "metadata": {
        "id": "6kEvsBHdaINq"
      },
      "outputs": [],
      "source": [
        "train_df = train_df.dropna()\n",
        "test_df = test_df.dropna()"
      ]
    },
    {
      "cell_type": "code",
      "execution_count": null,
      "metadata": {
        "id": "MR2x2UmVwdVm",
        "colab": {
          "base_uri": "https://localhost:8080/",
          "height": 255,
          "referenced_widgets": [
            "1c664161e06443a2a8909977c4dd4c80",
            "d736bc74515e4935bc6db3c5358aedba",
            "cb0b7c7dd76b4463a3a8c900628c3b54",
            "784bc0332cd948db8da8404fd9810573",
            "e655544e668c4f83a813c855a65a079f",
            "c3eec6c5baa14ed19d2773240649ec70",
            "f1f7a2e6ac71445a86ed4efe1d3dfc94",
            "ecd430a3d7db47ea998652fb8cb09346",
            "7c75171f567b439babe6ac8ea5a29cf1",
            "fe9a77d6cf4743089c79465e7e7f04a3",
            "d924c1e981094c37945b682364a14256",
            "21a97bb0cd1c47c6b1fa281db596c0d6",
            "0b29b08709b14a8782979d78230fb00c",
            "150d7fc57c4b4a8599de58b8a339ed6e",
            "2826849232524be3b7738daed8b28ec2",
            "67bebc240346459487737a0439673e06",
            "732d2e1b107a4a97934c660ae5cc4d08",
            "0f3bf106524a46b687618fe9f1ad3c9d",
            "c7a9ce5bb0764eba8f6bf07d366d3779",
            "bc09facea16d4b289054407e9d644159",
            "989f6867a980481594d2251b61d4a809",
            "a207e34f426a426ba273e10ed0105620"
          ]
        },
        "outputId": "45b7d387-cf56-4bd9-bd37-da3206508276"
      },
      "outputs": [
        {
          "output_type": "stream",
          "name": "stdout",
          "text": [
            "2286514\n",
            "100\n"
          ]
        },
        {
          "output_type": "display_data",
          "data": {
            "text/plain": [
              "  0%|          | 0/22866 [00:00<?, ?it/s]"
            ],
            "application/vnd.jupyter.widget-view+json": {
              "version_major": 2,
              "version_minor": 0,
              "model_id": "1c664161e06443a2a8909977c4dd4c80"
            }
          },
          "metadata": {}
        },
        {
          "output_type": "stream",
          "name": "stdout",
          "text": [
            "count: 22866\n",
            "features shape: \n",
            "majority votes shape: \n",
            "572878\n",
            "100\n"
          ]
        },
        {
          "output_type": "display_data",
          "data": {
            "text/plain": [
              "  0%|          | 0/5729 [00:00<?, ?it/s]"
            ],
            "application/vnd.jupyter.widget-view+json": {
              "version_major": 2,
              "version_minor": 0,
              "model_id": "21a97bb0cd1c47c6b1fa281db596c0d6"
            }
          },
          "metadata": {}
        },
        {
          "output_type": "stream",
          "name": "stdout",
          "text": [
            "count: 5729\n",
            "features shape: \n",
            "majority votes shape: \n"
          ]
        }
      ],
      "source": [
        "train_windows, train_labels = sliding_window(train_df, 100, 100)\n",
        "test_windows, test_labels = sliding_window(test_df, 100, 100)"
      ]
    },
    {
      "cell_type": "code",
      "execution_count": null,
      "metadata": {
        "id": "JQ5WMx-c42rF"
      },
      "outputs": [],
      "source": [
        "test_windows_df = pd.DataFrame(test_windows)\n",
        "test_windows_df"
      ]
    },
    {
      "cell_type": "code",
      "execution_count": null,
      "metadata": {
        "id": "Ta4rrV-X6PB2"
      },
      "outputs": [],
      "source": [
        "train_labels_df = pd.DataFrame(train_labels)\n",
        "train_labels_df.value_counts()"
      ]
    },
    {
      "cell_type": "code",
      "execution_count": null,
      "metadata": {
        "id": "3ZBBo8k76ea2"
      },
      "outputs": [],
      "source": [
        "test_labels_df = pd.DataFrame(test_labels)\n",
        "test_labels_df.value_counts()"
      ]
    },
    {
      "cell_type": "code",
      "execution_count": null,
      "metadata": {
        "id": "CH84cCo3brgW"
      },
      "outputs": [],
      "source": [
        "label_encoder = LabelEncoder().fit(train_labels)\n",
        "old_labels = np.copy(train_labels)\n",
        "train_labels = label_encoder.transform(train_labels)\n",
        "test_labels = label_encoder.transform(test_labels)"
      ]
    },
    {
      "cell_type": "code",
      "execution_count": null,
      "metadata": {
        "id": "R0eXQv61cCBq",
        "colab": {
          "base_uri": "https://localhost:8080/",
          "height": 524
        },
        "outputId": "b7cb9af3-64c1-4ed4-f7a3-2f1a7b2cd4a5"
      },
      "outputs": [
        {
          "output_type": "execute_result",
          "data": {
            "text/plain": [
              "Text(0.5, 1.0, 'after label encoding')"
            ]
          },
          "metadata": {},
          "execution_count": 18
        },
        {
          "output_type": "display_data",
          "data": {
            "text/plain": [
              "<Figure size 2000x600 with 2 Axes>"
            ],
            "image/png": "[encoded data removed]"
          },
          "metadata": {}
        }
      ],
      "source": [
        "plt.figure(dpi=200, figsize=(10, 3))\n",
        "plt.style.use('ggplot')\n",
        "\n",
        "plt.subplot(1, 2, 1)\n",
        "sns.histplot(old_labels)\n",
        "plt.title('before label encoding')\n",
        "\n",
        "plt.subplot(1, 2, 2)\n",
        "sns.histplot(train_labels) # was previously \"new_labels\"\n",
        "plt.title('after label encoding')"
      ]
    },
    {
      "cell_type": "markdown",
      "metadata": {
        "id": "ur1-HO8ScECr"
      },
      "source": [
        "Classification\n"
      ]
    },
    {
      "cell_type": "code",
      "execution_count": null,
      "metadata": {
        "id": "5elBEE5tpuoz",
        "colab": {
          "base_uri": "https://localhost:8080/"
        },
        "outputId": "44dee4a4-0890-458a-8dcf-e4555040cd8a"
      },
      "outputs": [
        {
          "output_type": "stream",
          "name": "stdout",
          "text": [
            "accuracy:  0.456973293768546\n",
            "F1 score:  0.40718675009670263\n"
          ]
        }
      ],
      "source": [
        "rf = RandomForestClassifier()\n",
        "rf.fit(train_windows, train_labels)\n",
        "test_predictions = rf.predict(test_windows)\n",
        "\n",
        "# print(test_labels[0:100])\n",
        "# print(test_predictions[0:100])\n",
        "accuracy = accuracy_score(test_labels, test_predictions)\n",
        "f1 = f1_score(test_labels, test_predictions, average='macro')\n",
        "print(\"accuracy: \", accuracy)\n",
        "print(\"F1 score: \", f1)"
      ]
    },
    {
      "cell_type": "code",
      "execution_count": null,
      "metadata": {
        "id": "WcC4ZiVHiGQ0"
      },
      "outputs": [],
      "source": [
        "# clf = HistGradientBoostingClassifier().fit(train_windows, new_labels)\n",
        "# test_predictions = clf.predict(test_windows)\n"
      ]
    },
    {
      "cell_type": "code",
      "execution_count": null,
      "metadata": {
        "id": "1iBbSaYXdBHg"
      },
      "outputs": [],
      "source": [
        "# rf = RandomForestClassifier()\n",
        "\n",
        "# rf.fit(train_windows, train_labels)\n",
        "# # test_predictions = rf.predict(test_labels)\n",
        "\n",
        "\n",
        "# print(accuracy_score(test_windows, test_predictions))\n",
        "# print(classification_report(test_windows, test_predictions))\n",
        "# print((f1_score(test_windows, test_predictions, average='macro')))"
      ]
    }
  ],
  "metadata": {
    "colab": {
      "provenance": []
    },
    "kernelspec": {
      "display_name": "Python 3",
      "name": "python3"
    },
    "language_info": {
      "name": "python"
    },
    "widgets": {
      "application/vnd.jupyter.widget-state+json": {
        "1c664161e06443a2a8909977c4dd4c80": {
          "model_module": "@jupyter-widgets/controls",
          "model_name": "HBoxModel",
          "model_module_version": "1.5.0",
          "state": {
            "_dom_classes": [],
            "_model_module": "@jupyter-widgets/controls",
            "_model_module_version": "1.5.0",
            "_model_name": "HBoxModel",
            "_view_count": null,
            "_view_module": "@jupyter-widgets/controls",
            "_view_module_version": "1.5.0",
            "_view_name": "HBoxView",
            "box_style": "",
            "children": [
              "IPY_MODEL_d736bc74515e4935bc6db3c5358aedba",
              "IPY_MODEL_cb0b7c7dd76b4463a3a8c900628c3b54",
              "IPY_MODEL_784bc0332cd948db8da8404fd9810573"
            ],
            "layout": "IPY_MODEL_e655544e668c4f83a813c855a65a079f"
          }
        },
        "d736bc74515e4935bc6db3c5358aedba": {
          "model_module": "@jupyter-widgets/controls",
          "model_name": "HTMLModel",
          "model_module_version": "1.5.0",
          "state": {
            "_dom_classes": [],
            "_model_module": "@jupyter-widgets/controls",
            "_model_module_version": "1.5.0",
            "_model_name": "HTMLModel",
            "_view_count": null,
            "_view_module": "@jupyter-widgets/controls",
            "_view_module_version": "1.5.0",
            "_view_name": "HTMLView",
            "description": "",
            "description_tooltip": null,
            "layout": "IPY_MODEL_c3eec6c5baa14ed19d2773240649ec70",
            "placeholder": "​",
            "style": "IPY_MODEL_f1f7a2e6ac71445a86ed4efe1d3dfc94",
            "value": "100%"
          }
        },
        "cb0b7c7dd76b4463a3a8c900628c3b54": {
          "model_module": "@jupyter-widgets/controls",
          "model_name": "FloatProgressModel",
          "model_module_version": "1.5.0",
          "state": {
            "_dom_classes": [],
            "_model_module": "@jupyter-widgets/controls",
            "_model_module_version": "1.5.0",
            "_model_name": "FloatProgressModel",
            "_view_count": null,
            "_view_module": "@jupyter-widgets/controls",
            "_view_module_version": "1.5.0",
            "_view_name": "ProgressView",
            "bar_style": "success",
            "description": "",
            "description_tooltip": null,
            "layout": "IPY_MODEL_ecd430a3d7db47ea998652fb8cb09346",
            "max": 22866,
            "min": 0,
            "orientation": "horizontal",
            "style": "IPY_MODEL_7c75171f567b439babe6ac8ea5a29cf1",
            "value": 22866
          }
        },
        "784bc0332cd948db8da8404fd9810573": {
          "model_module": "@jupyter-widgets/controls",
          "model_name": "HTMLModel",
          "model_module_version": "1.5.0",
          "state": {
            "_dom_classes": [],
            "_model_module": "@jupyter-widgets/controls",
            "_model_module_version": "1.5.0",
            "_model_name": "HTMLModel",
            "_view_count": null,
            "_view_module": "@jupyter-widgets/controls",
            "_view_module_version": "1.5.0",
            "_view_name": "HTMLView",
            "description": "",
            "description_tooltip": null,
            "layout": "IPY_MODEL_fe9a77d6cf4743089c79465e7e7f04a3",
            "placeholder": "​",
            "style": "IPY_MODEL_d924c1e981094c37945b682364a14256",
            "value": " 22866/22866 [00:50&lt;00:00, 656.02it/s]"
          }
        },
        "e655544e668c4f83a813c855a65a079f": {
          "model_module": "@jupyter-widgets/base",
          "model_name": "LayoutModel",
          "model_module_version": "1.2.0",
          "state": {
            "_model_module": "@jupyter-widgets/base",
            "_model_module_version": "1.2.0",
            "_model_name": "LayoutModel",
            "_view_count": null,
            "_view_module": "@jupyter-widgets/base",
            "_view_module_version": "1.2.0",
            "_view_name": "LayoutView",
            "align_content": null,
            "align_items": null,
            "align_self": null,
            "border": null,
            "bottom": null,
            "display": null,
            "flex": null,
            "flex_flow": null,
            "grid_area": null,
            "grid_auto_columns": null,
            "grid_auto_flow": null,
            "grid_auto_rows": null,
            "grid_column": null,
            "grid_gap": null,
            "grid_row": null,
            "grid_template_areas": null,
            "grid_template_columns": null,
            "grid_template_rows": null,
            "height": null,
            "justify_content": null,
            "justify_items": null,
            "left": null,
            "margin": null,
            "max_height": null,
            "max_width": null,
            "min_height": null,
            "min_width": null,
            "object_fit": null,
            "object_position": null,
            "order": null,
            "overflow": null,
            "overflow_x": null,
            "overflow_y": null,
            "padding": null,
            "right": null,
            "top": null,
            "visibility": null,
            "width": null
          }
        },
        "c3eec6c5baa14ed19d2773240649ec70": {
          "model_module": "@jupyter-widgets/base",
          "model_name": "LayoutModel",
          "model_module_version": "1.2.0",
          "state": {
            "_model_module": "@jupyter-widgets/base",
            "_model_module_version": "1.2.0",
            "_model_name": "LayoutModel",
            "_view_count": null,
            "_view_module": "@jupyter-widgets/base",
            "_view_module_version": "1.2.0",
            "_view_name": "LayoutView",
            "align_content": null,
            "align_items": null,
            "align_self": null,
            "border": null,
            "bottom": null,
            "display": null,
            "flex": null,
            "flex_flow": null,
            "grid_area": null,
            "grid_auto_columns": null,
            "grid_auto_flow": null,
            "grid_auto_rows": null,
            "grid_column": null,
            "grid_gap": null,
            "grid_row": null,
            "grid_template_areas": null,
            "grid_template_columns": null,
            "grid_template_rows": null,
            "height": null,
            "justify_content": null,
            "justify_items": null,
            "left": null,
            "margin": null,
            "max_height": null,
            "max_width": null,
            "min_height": null,
            "min_width": null,
            "object_fit": null,
            "object_position": null,
            "order": null,
            "overflow": null,
            "overflow_x": null,
            "overflow_y": null,
            "padding": null,
            "right": null,
            "top": null,
            "visibility": null,
            "width": null
          }
        },
        "f1f7a2e6ac71445a86ed4efe1d3dfc94": {
          "model_module": "@jupyter-widgets/controls",
          "model_name": "DescriptionStyleModel",
          "model_module_version": "1.5.0",
          "state": {
            "_model_module": "@jupyter-widgets/controls",
            "_model_module_version": "1.5.0",
            "_model_name": "DescriptionStyleModel",
            "_view_count": null,
            "_view_module": "@jupyter-widgets/base",
            "_view_module_version": "1.2.0",
            "_view_name": "StyleView",
            "description_width": ""
          }
        },
        "ecd430a3d7db47ea998652fb8cb09346": {
          "model_module": "@jupyter-widgets/base",
          "model_name": "LayoutModel",
          "model_module_version": "1.2.0",
          "state": {
            "_model_module": "@jupyter-widgets/base",
            "_model_module_version": "1.2.0",
            "_model_name": "LayoutModel",
            "_view_count": null,
            "_view_module": "@jupyter-widgets/base",
            "_view_module_version": "1.2.0",
            "_view_name": "LayoutView",
            "align_content": null,
            "align_items": null,
            "align_self": null,
            "border": null,
            "bottom": null,
            "display": null,
            "flex": null,
            "flex_flow": null,
            "grid_area": null,
            "grid_auto_columns": null,
            "grid_auto_flow": null,
            "grid_auto_rows": null,
            "grid_column": null,
            "grid_gap": null,
            "grid_row": null,
            "grid_template_areas": null,
            "grid_template_columns": null,
            "grid_template_rows": null,
            "height": null,
            "justify_content": null,
            "justify_items": null,
            "left": null,
            "margin": null,
            "max_height": null,
            "max_width": null,
            "min_height": null,
            "min_width": null,
            "object_fit": null,
            "object_position": null,
            "order": null,
            "overflow": null,
            "overflow_x": null,
            "overflow_y": null,
            "padding": null,
            "right": null,
            "top": null,
            "visibility": null,
            "width": null
          }
        },
        "7c75171f567b439babe6ac8ea5a29cf1": {
          "model_module": "@jupyter-widgets/controls",
          "model_name": "ProgressStyleModel",
          "model_module_version": "1.5.0",
          "state": {
            "_model_module": "@jupyter-widgets/controls",
            "_model_module_version": "1.5.0",
            "_model_name": "ProgressStyleModel",
            "_view_count": null,
            "_view_module": "@jupyter-widgets/base",
            "_view_module_version": "1.2.0",
            "_view_name": "StyleView",
            "bar_color": null,
            "description_width": ""
          }
        },
        "fe9a77d6cf4743089c79465e7e7f04a3": {
          "model_module": "@jupyter-widgets/base",
          "model_name": "LayoutModel",
          "model_module_version": "1.2.0",
          "state": {
            "_model_module": "@jupyter-widgets/base",
            "_model_module_version": "1.2.0",
            "_model_name": "LayoutModel",
            "_view_count": null,
            "_view_module": "@jupyter-widgets/base",
            "_view_module_version": "1.2.0",
            "_view_name": "LayoutView",
            "align_content": null,
            "align_items": null,
            "align_self": null,
            "border": null,
            "bottom": null,
            "display": null,
            "flex": null,
            "flex_flow": null,
            "grid_area": null,
            "grid_auto_columns": null,
            "grid_auto_flow": null,
            "grid_auto_rows": null,
            "grid_column": null,
            "grid_gap": null,
            "grid_row": null,
            "grid_template_areas": null,
            "grid_template_columns": null,
            "grid_template_rows": null,
            "height": null,
            "justify_content": null,
            "justify_items": null,
            "left": null,
            "margin": null,
            "max_height": null,
            "max_width": null,
            "min_height": null,
            "min_width": null,
            "object_fit": null,
            "object_position": null,
            "order": null,
            "overflow": null,
            "overflow_x": null,
            "overflow_y": null,
            "padding": null,
            "right": null,
            "top": null,
            "visibility": null,
            "width": null
          }
        },
        "d924c1e981094c37945b682364a14256": {
          "model_module": "@jupyter-widgets/controls",
          "model_name": "DescriptionStyleModel",
          "model_module_version": "1.5.0",
          "state": {
            "_model_module": "@jupyter-widgets/controls",
            "_model_module_version": "1.5.0",
            "_model_name": "DescriptionStyleModel",
            "_view_count": null,
            "_view_module": "@jupyter-widgets/base",
            "_view_module_version": "1.2.0",
            "_view_name": "StyleView",
            "description_width": ""
          }
        },
        "21a97bb0cd1c47c6b1fa281db596c0d6": {
          "model_module": "@jupyter-widgets/controls",
          "model_name": "HBoxModel",
          "model_module_version": "1.5.0",
          "state": {
            "_dom_classes": [],
            "_model_module": "@jupyter-widgets/controls",
            "_model_module_version": "1.5.0",
            "_model_name": "HBoxModel",
            "_view_count": null,
            "_view_module": "@jupyter-widgets/controls",
            "_view_module_version": "1.5.0",
            "_view_name": "HBoxView",
            "box_style": "",
            "children": [
              "IPY_MODEL_0b29b08709b14a8782979d78230fb00c",
              "IPY_MODEL_150d7fc57c4b4a8599de58b8a339ed6e",
              "IPY_MODEL_2826849232524be3b7738daed8b28ec2"
            ],
            "layout": "IPY_MODEL_67bebc240346459487737a0439673e06"
          }
        },
        "0b29b08709b14a8782979d78230fb00c": {
          "model_module": "@jupyter-widgets/controls",
          "model_name": "HTMLModel",
          "model_module_version": "1.5.0",
          "state": {
            "_dom_classes": [],
            "_model_module": "@jupyter-widgets/controls",
            "_model_module_version": "1.5.0",
            "_model_name": "HTMLModel",
            "_view_count": null,
            "_view_module": "@jupyter-widgets/controls",
            "_view_module_version": "1.5.0",
            "_view_name": "HTMLView",
            "description": "",
            "description_tooltip": null,
            "layout": "IPY_MODEL_732d2e1b107a4a97934c660ae5cc4d08",
            "placeholder": "​",
            "style": "IPY_MODEL_0f3bf106524a46b687618fe9f1ad3c9d",
            "value": "100%"
          }
        },
        "150d7fc57c4b4a8599de58b8a339ed6e": {
          "model_module": "@jupyter-widgets/controls",
          "model_name": "FloatProgressModel",
          "model_module_version": "1.5.0",
          "state": {
            "_dom_classes": [],
            "_model_module": "@jupyter-widgets/controls",
            "_model_module_version": "1.5.0",
            "_model_name": "FloatProgressModel",
            "_view_count": null,
            "_view_module": "@jupyter-widgets/controls",
            "_view_module_version": "1.5.0",
            "_view_name": "ProgressView",
            "bar_style": "success",
            "description": "",
            "description_tooltip": null,
            "layout": "IPY_MODEL_c7a9ce5bb0764eba8f6bf07d366d3779",
            "max": 5729,
            "min": 0,
            "orientation": "horizontal",
            "style": "IPY_MODEL_bc09facea16d4b289054407e9d644159",
            "value": 5729
          }
        },
        "2826849232524be3b7738daed8b28ec2": {
          "model_module": "@jupyter-widgets/controls",
          "model_name": "HTMLModel",
          "model_module_version": "1.5.0",
          "state": {
            "_dom_classes": [],
            "_model_module": "@jupyter-widgets/controls",
            "_model_module_version": "1.5.0",
            "_model_name": "HTMLModel",
            "_view_count": null,
            "_view_module": "@jupyter-widgets/controls",
            "_view_module_version": "1.5.0",
            "_view_name": "HTMLView",
            "description": "",
            "description_tooltip": null,
            "layout": "IPY_MODEL_989f6867a980481594d2251b61d4a809",
            "placeholder": "​",
            "style": "IPY_MODEL_a207e34f426a426ba273e10ed0105620",
            "value": " 5729/5729 [00:10&lt;00:00, 583.14it/s]"
          }
        },
        "67bebc240346459487737a0439673e06": {
          "model_module": "@jupyter-widgets/base",
          "model_name": "LayoutModel",
          "model_module_version": "1.2.0",
          "state": {
            "_model_module": "@jupyter-widgets/base",
            "_model_module_version": "1.2.0",
            "_model_name": "LayoutModel",
            "_view_count": null,
            "_view_module": "@jupyter-widgets/base",
            "_view_module_version": "1.2.0",
            "_view_name": "LayoutView",
            "align_content": null,
            "align_items": null,
            "align_self": null,
            "border": null,
            "bottom": null,
            "display": null,
            "flex": null,
            "flex_flow": null,
            "grid_area": null,
            "grid_auto_columns": null,
            "grid_auto_flow": null,
            "grid_auto_rows": null,
            "grid_column": null,
            "grid_gap": null,
            "grid_row": null,
            "grid_template_areas": null,
            "grid_template_columns": null,
            "grid_template_rows": null,
            "height": null,
            "justify_content": null,
            "justify_items": null,
            "left": null,
            "margin": null,
            "max_height": null,
            "max_width": null,
            "min_height": null,
            "min_width": null,
            "object_fit": null,
            "object_position": null,
            "order": null,
            "overflow": null,
            "overflow_x": null,
            "overflow_y": null,
            "padding": null,
            "right": null,
            "top": null,
            "visibility": null,
            "width": null
          }
        },
        "732d2e1b107a4a97934c660ae5cc4d08": {
          "model_module": "@jupyter-widgets/base",
          "model_name": "LayoutModel",
          "model_module_version": "1.2.0",
          "state": {
            "_model_module": "@jupyter-widgets/base",
            "_model_module_version": "1.2.0",
            "_model_name": "LayoutModel",
            "_view_count": null,
            "_view_module": "@jupyter-widgets/base",
            "_view_module_version": "1.2.0",
            "_view_name": "LayoutView",
            "align_content": null,
            "align_items": null,
            "align_self": null,
            "border": null,
            "bottom": null,
            "display": null,
            "flex": null,
            "flex_flow": null,
            "grid_area": null,
            "grid_auto_columns": null,
            "grid_auto_flow": null,
            "grid_auto_rows": null,
            "grid_column": null,
            "grid_gap": null,
            "grid_row": null,
            "grid_template_areas": null,
            "grid_template_columns": null,
            "grid_template_rows": null,
            "height": null,
            "justify_content": null,
            "justify_items": null,
            "left": null,
            "margin": null,
            "max_height": null,
            "max_width": null,
            "min_height": null,
            "min_width": null,
            "object_fit": null,
            "object_position": null,
            "order": null,
            "overflow": null,
            "overflow_x": null,
            "overflow_y": null,
            "padding": null,
            "right": null,
            "top": null,
            "visibility": null,
            "width": null
          }
        },
        "0f3bf106524a46b687618fe9f1ad3c9d": {
          "model_module": "@jupyter-widgets/controls",
          "model_name": "DescriptionStyleModel",
          "model_module_version": "1.5.0",
          "state": {
            "_model_module": "@jupyter-widgets/controls",
            "_model_module_version": "1.5.0",
            "_model_name": "DescriptionStyleModel",
            "_view_count": null,
            "_view_module": "@jupyter-widgets/base",
            "_view_module_version": "1.2.0",
            "_view_name": "StyleView",
            "description_width": ""
          }
        },
        "c7a9ce5bb0764eba8f6bf07d366d3779": {
          "model_module": "@jupyter-widgets/base",
          "model_name": "LayoutModel",
          "model_module_version": "1.2.0",
          "state": {
            "_model_module": "@jupyter-widgets/base",
            "_model_module_version": "1.2.0",
            "_model_name": "LayoutModel",
            "_view_count": null,
            "_view_module": "@jupyter-widgets/base",
            "_view_module_version": "1.2.0",
            "_view_name": "LayoutView",
            "align_content": null,
            "align_items": null,
            "align_self": null,
            "border": null,
            "bottom": null,
            "display": null,
            "flex": null,
            "flex_flow": null,
            "grid_area": null,
            "grid_auto_columns": null,
            "grid_auto_flow": null,
            "grid_auto_rows": null,
            "grid_column": null,
            "grid_gap": null,
            "grid_row": null,
            "grid_template_areas": null,
            "grid_template_columns": null,
            "grid_template_rows": null,
            "height": null,
            "justify_content": null,
            "justify_items": null,
            "left": null,
            "margin": null,
            "max_height": null,
            "max_width": null,
            "min_height": null,
            "min_width": null,
            "object_fit": null,
            "object_position": null,
            "order": null,
            "overflow": null,
            "overflow_x": null,
            "overflow_y": null,
            "padding": null,
            "right": null,
            "top": null,
            "visibility": null,
            "width": null
          }
        },
        "bc09facea16d4b289054407e9d644159": {
          "model_module": "@jupyter-widgets/controls",
          "model_name": "ProgressStyleModel",
          "model_module_version": "1.5.0",
          "state": {
            "_model_module": "@jupyter-widgets/controls",
            "_model_module_version": "1.5.0",
            "_model_name": "ProgressStyleModel",
            "_view_count": null,
            "_view_module": "@jupyter-widgets/base",
            "_view_module_version": "1.2.0",
            "_view_name": "StyleView",
            "bar_color": null,
            "description_width": ""
          }
        },
        "989f6867a980481594d2251b61d4a809": {
          "model_module": "@jupyter-widgets/base",
          "model_name": "LayoutModel",
          "model_module_version": "1.2.0",
          "state": {
            "_model_module": "@jupyter-widgets/base",
            "_model_module_version": "1.2.0",
            "_model_name": "LayoutModel",
            "_view_count": null,
            "_view_module": "@jupyter-widgets/base",
            "_view_module_version": "1.2.0",
            "_view_name": "LayoutView",
            "align_content": null,
            "align_items": null,
            "align_self": null,
            "border": null,
            "bottom": null,
            "display": null,
            "flex": null,
            "flex_flow": null,
            "grid_area": null,
            "grid_auto_columns": null,
            "grid_auto_flow": null,
            "grid_auto_rows": null,
            "grid_column": null,
            "grid_gap": null,
            "grid_row": null,
            "grid_template_areas": null,
            "grid_template_columns": null,
            "grid_template_rows": null,
            "height": null,
            "justify_content": null,
            "justify_items": null,
            "left": null,
            "margin": null,
            "max_height": null,
            "max_width": null,
            "min_height": null,
            "min_width": null,
            "object_fit": null,
            "object_position": null,
            "order": null,
            "overflow": null,
            "overflow_x": null,
            "overflow_y": null,
            "padding": null,
            "right": null,
            "top": null,
            "visibility": null,
            "width": null
          }
        },
        "a207e34f426a426ba273e10ed0105620": {
          "model_module": "@jupyter-widgets/controls",
          "model_name": "DescriptionStyleModel",
          "model_module_version": "1.5.0",
          "state": {
            "_model_module": "@jupyter-widgets/controls",
            "_model_module_version": "1.5.0",
            "_model_name": "DescriptionStyleModel",
            "_view_count": null,
            "_view_module": "@jupyter-widgets/base",
            "_view_module_version": "1.2.0",
            "_view_name": "StyleView",
            "description_width": ""
          }
        }
      }
    }
  },
  "nbformat": 4,
  "nbformat_minor": 0
}